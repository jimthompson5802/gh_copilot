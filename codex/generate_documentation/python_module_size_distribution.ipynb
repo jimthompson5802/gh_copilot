{
 "cells": [
  {
   "cell_type": "code",
   "execution_count": 1,
   "id": "072b19cb-5a08-471c-8100-8d3d76d3d69d",
   "metadata": {},
   "outputs": [],
   "source": [
    "import argparse\n",
    "import os\n",
    "import pandas as pd"
   ]
  },
  {
   "cell_type": "code",
   "execution_count": 2,
   "id": "1825018b-ab61-485a-a65d-18341ca82964",
   "metadata": {},
   "outputs": [],
   "source": [
    "def get_python_module_files(directory):\n",
    "    python_module_files = []\n",
    "    for root, _, files in os.walk(directory):\n",
    "        for file in files:\n",
    "            if file.endswith('.py'):\n",
    "                file_path = os.path.join(root, file)\n",
    "                file_size = os.path.getsize(file_path) / 1024\n",
    "                python_module_files.append({'file': file_path, 'size_kb': file_size})\n",
    "    return python_module_files"
   ]
  },
  {
   "cell_type": "code",
   "execution_count": 3,
   "id": "339cf5df-c7f1-40bb-ad05-be787aa2e397",
   "metadata": {},
   "outputs": [
    {
     "name": "stdout",
     "output_type": "stream",
     "text": [
      "                                     file   size_kb\n",
      "0           ./extract_function_classes.py  0.990234\n",
      "1    ./generate_detailed_documentation.py  8.592773\n",
      "2             ./generate_documentation.py  2.616211\n",
      "3  ./latex_conversion_testbed_latexify.py  0.380859\n",
      "4       ./latex_conversion_testbed_llm.py  2.155273\n",
      "File Size Distribution of Python modules:\n",
      "count     15.000000\n",
      "mean      27.997982\n",
      "std       46.616484\n",
      "min        0.380859\n",
      "25%        1.218750\n",
      "50%        2.616211\n",
      "75%       35.047363\n",
      "90%       79.482031\n",
      "95%      114.657422\n",
      "99%      155.062734\n",
      "max      165.164062\n",
      "Name: size_kb, dtype: float64\n"
     ]
    }
   ],
   "source": [
    "def main():\n",
    "    # Set your directory here\n",
    "    target_directory = \".\"\n",
    "\n",
    "    python_module_files = get_python_module_files(target_directory)\n",
    "    df = pd.DataFrame(python_module_files)\n",
    "    print(df.head())\n",
    "\n",
    "    print(\"File Size Distribution of Python modules:\")\n",
    "    print(df['size_kb'].describe(percentiles=[0.25, 0.5, 0.75, 0.9, 0.95, 0.99]))\n",
    "\n",
    "if __name__ == \"__main__\":\n",
    "    main()"
   ]
  },
  {
   "cell_type": "code",
   "execution_count": null,
   "id": "c3914a3a-c44d-488a-9297-3cbe70a7ba74",
   "metadata": {},
   "outputs": [],
   "source": []
  }
 ],
 "metadata": {
  "kernelspec": {
   "display_name": "Python 3 (ipykernel)",
   "language": "python",
   "name": "python3"
  },
  "language_info": {
   "codemirror_mode": {
    "name": "ipython",
    "version": 3
   },
   "file_extension": ".py",
   "mimetype": "text/x-python",
   "name": "python",
   "nbconvert_exporter": "python",
   "pygments_lexer": "ipython3",
   "version": "3.9.16"
  }
 },
 "nbformat": 4,
 "nbformat_minor": 5
}
